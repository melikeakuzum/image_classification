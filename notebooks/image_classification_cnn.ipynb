{
 "cells": [
  {
   "cell_type": "markdown",
   "id": "447c9ecf-f057-4426-b154-19bd3c50fd57",
   "metadata": {},
   "source": [
    "# CNN ile Hayvan Türlerini Sınıflandırma Projesi\n",
    "\n",
    "Bu proje, Convolutional Neural Networks (CNN) kullanarak 10 farklı hayvan türünü sınıflandırmayı amaçlamaktadır.\n",
    "Veri seti Kaggle'dan alınmış olup, resimler üzerinde veri temizleme, model eğitme ve farklı ışık koşullarıyla test işlemleri gerçekleştirilecektir.\n"
   ]
  },
  {
   "cell_type": "code",
   "execution_count": 36,
   "id": "3e33b48f-a62d-4f16-80be-d86840caff3d",
   "metadata": {
    "scrolled": true
   },
   "outputs": [
    {
     "name": "stdout",
     "output_type": "stream",
     "text": [
      "Tüm kütüphaneler başarıyla yüklendi!\n"
     ]
    }
   ],
   "source": [
    "import os\n",
    "import shutil\n",
    "import cv2\n",
    "import numpy as np\n",
    "import matplotlib.pyplot as plt\n",
    "from sklearn.model_selection import train_test_split\n",
    "from tensorflow.keras.models import Sequential\n",
    "from tensorflow.keras.layers import Conv2D, MaxPooling2D, Flatten, Dense, Dropout, BatchNormalization, Input\n",
    "from tensorflow.keras.preprocessing.image import ImageDataGenerator\n",
    "from tensorflow.keras.optimizers import Adam\n",
    "\n",
    "x_train, x_test, y_train, y_test = train_test_split(X, y, test_size=0.3, random_state=42)\n",
    "\n",
    "print(\"Tüm kütüphaneler başarıyla yüklendi!\")\n"
   ]
  },
  {
   "cell_type": "markdown",
   "id": "06a60d24-eeb3-41a7-a68b-9b15e8ba5dd2",
   "metadata": {},
   "source": [
    "## 1-Veri Setinin Temizlenmesi ve Hazırlanması\n",
    "\n",
    "Bu bölümde:\n",
    "1. Orijinal veri setinden yalnızca 10 sınıf seçilecek.\n",
    "2. Her sınıf için ilk 650 görüntü kullanılacak.\n",
    "3. Seçili veriler `processed_data/` klasörüne kaydedilecek.\n"
   ]
  },
  {
   "cell_type": "code",
   "execution_count": 37,
   "id": "3d5391f5-5bcf-45a9-b1ec-5524e5730ef2",
   "metadata": {},
   "outputs": [
    {
     "name": "stdout",
     "output_type": "stream",
     "text": [
      "Seçili sınıfların verileri başarıyla işlendi ve kaydedildi!\n"
     ]
    }
   ],
   "source": [
    "# Klasörlerden seçili sınıfların verilerini işleme\n",
    "source_dir = \"../data/JPEGImages\"  # Orijinal veri yolu\n",
    "target_dir = \"../processed_data\"   # İşlenmiş veri yolu\n",
    "selected_classes = [\"collie\", \"dolphin\", \"elephant\", \"fox\", \n",
    "                    \"moose\", \"rabbit\", \"sheep\", \"squirrel\", \n",
    "                    \"giant+panda\", \"polar+bear\"]\n",
    "\n",
    "os.makedirs(target_dir, exist_ok=True)\n",
    "\n",
    "for cls in selected_classes:\n",
    "    cls_path = os.path.join(source_dir, cls)\n",
    "    target_cls_path = os.path.join(target_dir, cls)\n",
    "    os.makedirs(target_cls_path, exist_ok=True)\n",
    "    images = os.listdir(cls_path)[:650]  # İlk 650 görseli seç\n",
    "    \n",
    "    for img in images:\n",
    "        shutil.copy(os.path.join(cls_path, img), os.path.join(target_cls_path, img))\n",
    "\n",
    "print(\"Seçili sınıfların verileri başarıyla işlendi ve kaydedildi!\")\n",
    "\n"
   ]
  },
  {
   "cell_type": "markdown",
   "id": "7ca17b2f-955d-42a0-aa73-ca02e4a171c9",
   "metadata": {},
   "source": [
    "## 2-Görüntülerin Ön İşlemesi\n",
    "\n",
    "Bu aşamada:\n",
    "- Görseller 128x128 boyutuna yeniden boyutlandırılacak.\n",
    "- Piksel değerleri normalize edilecek.\n",
    "\n"
   ]
  },
  {
   "cell_type": "code",
   "execution_count": 38,
   "id": "88c2a024-07fa-4b41-bf74-708f0116132a",
   "metadata": {},
   "outputs": [
    {
     "name": "stdout",
     "output_type": "stream",
     "text": [
      "Düzeltilmiş Eşsiz Etiketler: [0 1 2 3 4 5 6 7 8 9]\n"
     ]
    }
   ],
   "source": [
    "def preprocess_images(directory):\n",
    "    X, y = [], []\n",
    "    class_names = sorted(os.listdir(directory))  # Sınıfları alfabetik sırayla düzenle\n",
    "    class_to_label = {cls: i for i, cls in enumerate(class_names)}  # Sınıfları yeniden etiketle\n",
    "\n",
    "    for cls in class_names:\n",
    "        cls_path = os.path.join(directory, cls)\n",
    "        if cls == \".ipynb_checkpoints\":\n",
    "            continue\n",
    "        for img_file in os.listdir(cls_path):\n",
    "            if img_file.startswith(\".\"):  # Gizli dosyaları yoksay\n",
    "                continue\n",
    "            img_path = os.path.join(cls_path, img_file)\n",
    "            img = cv2.imread(img_path)\n",
    "            if img is None:  # Eğer görüntü okunamazsa atla\n",
    "                print(f\"Hata: {img_path} dosyası okunamadı.\")\n",
    "                continue\n",
    "            img_resized = cv2.resize(img, (128, 128))\n",
    "            img_normalized = img_resized / 255.0\n",
    "            X.append(img_normalized)\n",
    "            y.append(class_to_label[cls])\n",
    "    return np.array(X), np.array(y)\n",
    "\n",
    "X, y = preprocess_images(target_dir)\n",
    "\n",
    "# Etiketleri 0'dan başlatmak için 1 çıkarıyoruz\n",
    "y = y - 1\n",
    "\n",
    "print(\"Düzeltilmiş Eşsiz Etiketler:\", np.unique(y))"
   ]
  },
  {
   "cell_type": "markdown",
   "id": "55bbb704-9e44-49e5-8876-6b6ebafe7e70",
   "metadata": {},
   "source": [
    "## 3-Veri Setinin Eğitim ve Test Olarak Bölünmesi\n",
    "\n",
    "Veri seti %70 eğitim ve %30 test olarak bölünecek.\n",
    "\n"
   ]
  },
  {
   "cell_type": "code",
   "execution_count": 39,
   "id": "b36a2d47-51b1-4176-a158-45c9ab00528c",
   "metadata": {},
   "outputs": [
    {
     "name": "stdout",
     "output_type": "stream",
     "text": [
      "Eğitim Seti: 4550 görsel\n",
      "Test Seti: 1950 görsel\n"
     ]
    }
   ],
   "source": [
    "X_train, X_test, y_train, y_test = train_test_split(X, y, test_size=0.3, random_state=42)\n",
    "print(f\"Eğitim Seti: {len(X_train)} görsel\")\n",
    "print(f\"Test Seti: {len(X_test)} görsel\")"
   ]
  },
  {
   "cell_type": "markdown",
   "id": "d0c74df1-c678-4a0c-901b-2f0bc9b2c04a",
   "metadata": {},
   "source": [
    "##  4. Veri Artırma (Data Augmentation) \n",
    "\n",
    "Eğitim veri seti üzerinde dönüşümler uygulanarak, modelin genel performansını artırmak ve aşırı uyum (overfitting) riskini azaltmak amacıyla veri artırma işlemi yapılır.\n",
    "\n"
   ]
  },
  {
   "cell_type": "code",
   "execution_count": 40,
   "id": "0d0b84b5-6012-42d1-8b13-0bcb95ba42d0",
   "metadata": {},
   "outputs": [],
   "source": [
    "# Veri augmentasyonu\n",
    "datagen = ImageDataGenerator(\n",
    "    rescale=1.0 / 255,\n",
    "    brightness_range=[0.8, 1.2],\n",
    "    zoom_range=0.2,\n",
    "    shear_range=0.2,\n",
    "    width_shift_range=0.1,\n",
    "    height_shift_range=0.1,\n",
    "    fill_mode='nearest'\n",
    ")\n",
    "\n",
    "# Eğitim verilerini augmentasyonla genişletme\n",
    "train_generator = datagen.flow(\n",
    "    X_train,  # Eğitim verisi\n",
    "    y_train,  # Eğitim etiketleri\n",
    "    batch_size=32\n",
    ")\n"
   ]
  },
  {
   "cell_type": "markdown",
   "id": "a885ea6c-38b5-4cb0-8296-ba8f76170df5",
   "metadata": {},
   "source": [
    "## 5-CNN Modelinin Tasarlanması\n",
    "\n",
    "Bu adımda, temel bir CNN modeli oluşturulacaktır. Model, dört konvolüsyonel katman ve iki tam bağlantılı (dense) katman içerir.\n",
    "\n",
    "Her bir konvolüsyonel katmandan sonra BatchNormalization ve MaxPooling uygulanarak modelin daha sağlam öğrenmesi sağlanır. Son katman ise 10 sınıf için softmax aktivasyon fonksiyonu ile yapılır."
   ]
  },
  {
   "cell_type": "code",
   "execution_count": 41,
   "id": "c4ffbd0c-a3ae-49a8-b34b-085fcb6ad558",
   "metadata": {},
   "outputs": [
    {
     "data": {
      "text/html": [
       "<pre style=\"white-space:pre;overflow-x:auto;line-height:normal;font-family:Menlo,'DejaVu Sans Mono',consolas,'Courier New',monospace\"><span style=\"font-weight: bold\">Model: \"sequential_2\"</span>\n",
       "</pre>\n"
      ],
      "text/plain": [
       "\u001b[1mModel: \"sequential_2\"\u001b[0m\n"
      ]
     },
     "metadata": {},
     "output_type": "display_data"
    },
    {
     "data": {
      "text/html": [
       "<pre style=\"white-space:pre;overflow-x:auto;line-height:normal;font-family:Menlo,'DejaVu Sans Mono',consolas,'Courier New',monospace\">┏━━━━━━━━━━━━━━━━━━━━━━━━━━━━━━━━━┳━━━━━━━━━━━━━━━━━━━━━━━━┳━━━━━━━━━━━━━━━┓\n",
       "┃<span style=\"font-weight: bold\"> Layer (type)                    </span>┃<span style=\"font-weight: bold\"> Output Shape           </span>┃<span style=\"font-weight: bold\">       Param # </span>┃\n",
       "┡━━━━━━━━━━━━━━━━━━━━━━━━━━━━━━━━━╇━━━━━━━━━━━━━━━━━━━━━━━━╇━━━━━━━━━━━━━━━┩\n",
       "│ conv2d_2 (<span style=\"color: #0087ff; text-decoration-color: #0087ff\">Conv2D</span>)               │ (<span style=\"color: #00d7ff; text-decoration-color: #00d7ff\">None</span>, <span style=\"color: #00af00; text-decoration-color: #00af00\">128</span>, <span style=\"color: #00af00; text-decoration-color: #00af00\">128</span>, <span style=\"color: #00af00; text-decoration-color: #00af00\">32</span>)   │           <span style=\"color: #00af00; text-decoration-color: #00af00\">896</span> │\n",
       "├─────────────────────────────────┼────────────────────────┼───────────────┤\n",
       "│ batch_normalization             │ (<span style=\"color: #00d7ff; text-decoration-color: #00d7ff\">None</span>, <span style=\"color: #00af00; text-decoration-color: #00af00\">128</span>, <span style=\"color: #00af00; text-decoration-color: #00af00\">128</span>, <span style=\"color: #00af00; text-decoration-color: #00af00\">32</span>)   │           <span style=\"color: #00af00; text-decoration-color: #00af00\">128</span> │\n",
       "│ (<span style=\"color: #0087ff; text-decoration-color: #0087ff\">BatchNormalization</span>)            │                        │               │\n",
       "├─────────────────────────────────┼────────────────────────┼───────────────┤\n",
       "│ max_pooling2d_2 (<span style=\"color: #0087ff; text-decoration-color: #0087ff\">MaxPooling2D</span>)  │ (<span style=\"color: #00d7ff; text-decoration-color: #00d7ff\">None</span>, <span style=\"color: #00af00; text-decoration-color: #00af00\">64</span>, <span style=\"color: #00af00; text-decoration-color: #00af00\">64</span>, <span style=\"color: #00af00; text-decoration-color: #00af00\">32</span>)     │             <span style=\"color: #00af00; text-decoration-color: #00af00\">0</span> │\n",
       "├─────────────────────────────────┼────────────────────────┼───────────────┤\n",
       "│ conv2d_3 (<span style=\"color: #0087ff; text-decoration-color: #0087ff\">Conv2D</span>)               │ (<span style=\"color: #00d7ff; text-decoration-color: #00d7ff\">None</span>, <span style=\"color: #00af00; text-decoration-color: #00af00\">64</span>, <span style=\"color: #00af00; text-decoration-color: #00af00\">64</span>, <span style=\"color: #00af00; text-decoration-color: #00af00\">64</span>)     │        <span style=\"color: #00af00; text-decoration-color: #00af00\">18,496</span> │\n",
       "├─────────────────────────────────┼────────────────────────┼───────────────┤\n",
       "│ batch_normalization_1           │ (<span style=\"color: #00d7ff; text-decoration-color: #00d7ff\">None</span>, <span style=\"color: #00af00; text-decoration-color: #00af00\">64</span>, <span style=\"color: #00af00; text-decoration-color: #00af00\">64</span>, <span style=\"color: #00af00; text-decoration-color: #00af00\">64</span>)     │           <span style=\"color: #00af00; text-decoration-color: #00af00\">256</span> │\n",
       "│ (<span style=\"color: #0087ff; text-decoration-color: #0087ff\">BatchNormalization</span>)            │                        │               │\n",
       "├─────────────────────────────────┼────────────────────────┼───────────────┤\n",
       "│ max_pooling2d_3 (<span style=\"color: #0087ff; text-decoration-color: #0087ff\">MaxPooling2D</span>)  │ (<span style=\"color: #00d7ff; text-decoration-color: #00d7ff\">None</span>, <span style=\"color: #00af00; text-decoration-color: #00af00\">32</span>, <span style=\"color: #00af00; text-decoration-color: #00af00\">32</span>, <span style=\"color: #00af00; text-decoration-color: #00af00\">64</span>)     │             <span style=\"color: #00af00; text-decoration-color: #00af00\">0</span> │\n",
       "├─────────────────────────────────┼────────────────────────┼───────────────┤\n",
       "│ conv2d_4 (<span style=\"color: #0087ff; text-decoration-color: #0087ff\">Conv2D</span>)               │ (<span style=\"color: #00d7ff; text-decoration-color: #00d7ff\">None</span>, <span style=\"color: #00af00; text-decoration-color: #00af00\">32</span>, <span style=\"color: #00af00; text-decoration-color: #00af00\">32</span>, <span style=\"color: #00af00; text-decoration-color: #00af00\">128</span>)    │        <span style=\"color: #00af00; text-decoration-color: #00af00\">73,856</span> │\n",
       "├─────────────────────────────────┼────────────────────────┼───────────────┤\n",
       "│ batch_normalization_2           │ (<span style=\"color: #00d7ff; text-decoration-color: #00d7ff\">None</span>, <span style=\"color: #00af00; text-decoration-color: #00af00\">32</span>, <span style=\"color: #00af00; text-decoration-color: #00af00\">32</span>, <span style=\"color: #00af00; text-decoration-color: #00af00\">128</span>)    │           <span style=\"color: #00af00; text-decoration-color: #00af00\">512</span> │\n",
       "│ (<span style=\"color: #0087ff; text-decoration-color: #0087ff\">BatchNormalization</span>)            │                        │               │\n",
       "├─────────────────────────────────┼────────────────────────┼───────────────┤\n",
       "│ max_pooling2d_4 (<span style=\"color: #0087ff; text-decoration-color: #0087ff\">MaxPooling2D</span>)  │ (<span style=\"color: #00d7ff; text-decoration-color: #00d7ff\">None</span>, <span style=\"color: #00af00; text-decoration-color: #00af00\">16</span>, <span style=\"color: #00af00; text-decoration-color: #00af00\">16</span>, <span style=\"color: #00af00; text-decoration-color: #00af00\">128</span>)    │             <span style=\"color: #00af00; text-decoration-color: #00af00\">0</span> │\n",
       "├─────────────────────────────────┼────────────────────────┼───────────────┤\n",
       "│ conv2d_5 (<span style=\"color: #0087ff; text-decoration-color: #0087ff\">Conv2D</span>)               │ (<span style=\"color: #00d7ff; text-decoration-color: #00d7ff\">None</span>, <span style=\"color: #00af00; text-decoration-color: #00af00\">16</span>, <span style=\"color: #00af00; text-decoration-color: #00af00\">16</span>, <span style=\"color: #00af00; text-decoration-color: #00af00\">256</span>)    │       <span style=\"color: #00af00; text-decoration-color: #00af00\">295,168</span> │\n",
       "├─────────────────────────────────┼────────────────────────┼───────────────┤\n",
       "│ batch_normalization_3           │ (<span style=\"color: #00d7ff; text-decoration-color: #00d7ff\">None</span>, <span style=\"color: #00af00; text-decoration-color: #00af00\">16</span>, <span style=\"color: #00af00; text-decoration-color: #00af00\">16</span>, <span style=\"color: #00af00; text-decoration-color: #00af00\">256</span>)    │         <span style=\"color: #00af00; text-decoration-color: #00af00\">1,024</span> │\n",
       "│ (<span style=\"color: #0087ff; text-decoration-color: #0087ff\">BatchNormalization</span>)            │                        │               │\n",
       "├─────────────────────────────────┼────────────────────────┼───────────────┤\n",
       "│ max_pooling2d_5 (<span style=\"color: #0087ff; text-decoration-color: #0087ff\">MaxPooling2D</span>)  │ (<span style=\"color: #00d7ff; text-decoration-color: #00d7ff\">None</span>, <span style=\"color: #00af00; text-decoration-color: #00af00\">8</span>, <span style=\"color: #00af00; text-decoration-color: #00af00\">8</span>, <span style=\"color: #00af00; text-decoration-color: #00af00\">256</span>)      │             <span style=\"color: #00af00; text-decoration-color: #00af00\">0</span> │\n",
       "├─────────────────────────────────┼────────────────────────┼───────────────┤\n",
       "│ flatten_2 (<span style=\"color: #0087ff; text-decoration-color: #0087ff\">Flatten</span>)             │ (<span style=\"color: #00d7ff; text-decoration-color: #00d7ff\">None</span>, <span style=\"color: #00af00; text-decoration-color: #00af00\">16384</span>)          │             <span style=\"color: #00af00; text-decoration-color: #00af00\">0</span> │\n",
       "├─────────────────────────────────┼────────────────────────┼───────────────┤\n",
       "│ dense_4 (<span style=\"color: #0087ff; text-decoration-color: #0087ff\">Dense</span>)                 │ (<span style=\"color: #00d7ff; text-decoration-color: #00d7ff\">None</span>, <span style=\"color: #00af00; text-decoration-color: #00af00\">512</span>)            │     <span style=\"color: #00af00; text-decoration-color: #00af00\">8,389,120</span> │\n",
       "├─────────────────────────────────┼────────────────────────┼───────────────┤\n",
       "│ dropout (<span style=\"color: #0087ff; text-decoration-color: #0087ff\">Dropout</span>)               │ (<span style=\"color: #00d7ff; text-decoration-color: #00d7ff\">None</span>, <span style=\"color: #00af00; text-decoration-color: #00af00\">512</span>)            │             <span style=\"color: #00af00; text-decoration-color: #00af00\">0</span> │\n",
       "├─────────────────────────────────┼────────────────────────┼───────────────┤\n",
       "│ dense_5 (<span style=\"color: #0087ff; text-decoration-color: #0087ff\">Dense</span>)                 │ (<span style=\"color: #00d7ff; text-decoration-color: #00d7ff\">None</span>, <span style=\"color: #00af00; text-decoration-color: #00af00\">256</span>)            │       <span style=\"color: #00af00; text-decoration-color: #00af00\">131,328</span> │\n",
       "├─────────────────────────────────┼────────────────────────┼───────────────┤\n",
       "│ dropout_1 (<span style=\"color: #0087ff; text-decoration-color: #0087ff\">Dropout</span>)             │ (<span style=\"color: #00d7ff; text-decoration-color: #00d7ff\">None</span>, <span style=\"color: #00af00; text-decoration-color: #00af00\">256</span>)            │             <span style=\"color: #00af00; text-decoration-color: #00af00\">0</span> │\n",
       "├─────────────────────────────────┼────────────────────────┼───────────────┤\n",
       "│ dense_6 (<span style=\"color: #0087ff; text-decoration-color: #0087ff\">Dense</span>)                 │ (<span style=\"color: #00d7ff; text-decoration-color: #00d7ff\">None</span>, <span style=\"color: #00af00; text-decoration-color: #00af00\">10</span>)             │         <span style=\"color: #00af00; text-decoration-color: #00af00\">2,570</span> │\n",
       "└─────────────────────────────────┴────────────────────────┴───────────────┘\n",
       "</pre>\n"
      ],
      "text/plain": [
       "┏━━━━━━━━━━━━━━━━━━━━━━━━━━━━━━━━━┳━━━━━━━━━━━━━━━━━━━━━━━━┳━━━━━━━━━━━━━━━┓\n",
       "┃\u001b[1m \u001b[0m\u001b[1mLayer (type)                   \u001b[0m\u001b[1m \u001b[0m┃\u001b[1m \u001b[0m\u001b[1mOutput Shape          \u001b[0m\u001b[1m \u001b[0m┃\u001b[1m \u001b[0m\u001b[1m      Param #\u001b[0m\u001b[1m \u001b[0m┃\n",
       "┡━━━━━━━━━━━━━━━━━━━━━━━━━━━━━━━━━╇━━━━━━━━━━━━━━━━━━━━━━━━╇━━━━━━━━━━━━━━━┩\n",
       "│ conv2d_2 (\u001b[38;5;33mConv2D\u001b[0m)               │ (\u001b[38;5;45mNone\u001b[0m, \u001b[38;5;34m128\u001b[0m, \u001b[38;5;34m128\u001b[0m, \u001b[38;5;34m32\u001b[0m)   │           \u001b[38;5;34m896\u001b[0m │\n",
       "├─────────────────────────────────┼────────────────────────┼───────────────┤\n",
       "│ batch_normalization             │ (\u001b[38;5;45mNone\u001b[0m, \u001b[38;5;34m128\u001b[0m, \u001b[38;5;34m128\u001b[0m, \u001b[38;5;34m32\u001b[0m)   │           \u001b[38;5;34m128\u001b[0m │\n",
       "│ (\u001b[38;5;33mBatchNormalization\u001b[0m)            │                        │               │\n",
       "├─────────────────────────────────┼────────────────────────┼───────────────┤\n",
       "│ max_pooling2d_2 (\u001b[38;5;33mMaxPooling2D\u001b[0m)  │ (\u001b[38;5;45mNone\u001b[0m, \u001b[38;5;34m64\u001b[0m, \u001b[38;5;34m64\u001b[0m, \u001b[38;5;34m32\u001b[0m)     │             \u001b[38;5;34m0\u001b[0m │\n",
       "├─────────────────────────────────┼────────────────────────┼───────────────┤\n",
       "│ conv2d_3 (\u001b[38;5;33mConv2D\u001b[0m)               │ (\u001b[38;5;45mNone\u001b[0m, \u001b[38;5;34m64\u001b[0m, \u001b[38;5;34m64\u001b[0m, \u001b[38;5;34m64\u001b[0m)     │        \u001b[38;5;34m18,496\u001b[0m │\n",
       "├─────────────────────────────────┼────────────────────────┼───────────────┤\n",
       "│ batch_normalization_1           │ (\u001b[38;5;45mNone\u001b[0m, \u001b[38;5;34m64\u001b[0m, \u001b[38;5;34m64\u001b[0m, \u001b[38;5;34m64\u001b[0m)     │           \u001b[38;5;34m256\u001b[0m │\n",
       "│ (\u001b[38;5;33mBatchNormalization\u001b[0m)            │                        │               │\n",
       "├─────────────────────────────────┼────────────────────────┼───────────────┤\n",
       "│ max_pooling2d_3 (\u001b[38;5;33mMaxPooling2D\u001b[0m)  │ (\u001b[38;5;45mNone\u001b[0m, \u001b[38;5;34m32\u001b[0m, \u001b[38;5;34m32\u001b[0m, \u001b[38;5;34m64\u001b[0m)     │             \u001b[38;5;34m0\u001b[0m │\n",
       "├─────────────────────────────────┼────────────────────────┼───────────────┤\n",
       "│ conv2d_4 (\u001b[38;5;33mConv2D\u001b[0m)               │ (\u001b[38;5;45mNone\u001b[0m, \u001b[38;5;34m32\u001b[0m, \u001b[38;5;34m32\u001b[0m, \u001b[38;5;34m128\u001b[0m)    │        \u001b[38;5;34m73,856\u001b[0m │\n",
       "├─────────────────────────────────┼────────────────────────┼───────────────┤\n",
       "│ batch_normalization_2           │ (\u001b[38;5;45mNone\u001b[0m, \u001b[38;5;34m32\u001b[0m, \u001b[38;5;34m32\u001b[0m, \u001b[38;5;34m128\u001b[0m)    │           \u001b[38;5;34m512\u001b[0m │\n",
       "│ (\u001b[38;5;33mBatchNormalization\u001b[0m)            │                        │               │\n",
       "├─────────────────────────────────┼────────────────────────┼───────────────┤\n",
       "│ max_pooling2d_4 (\u001b[38;5;33mMaxPooling2D\u001b[0m)  │ (\u001b[38;5;45mNone\u001b[0m, \u001b[38;5;34m16\u001b[0m, \u001b[38;5;34m16\u001b[0m, \u001b[38;5;34m128\u001b[0m)    │             \u001b[38;5;34m0\u001b[0m │\n",
       "├─────────────────────────────────┼────────────────────────┼───────────────┤\n",
       "│ conv2d_5 (\u001b[38;5;33mConv2D\u001b[0m)               │ (\u001b[38;5;45mNone\u001b[0m, \u001b[38;5;34m16\u001b[0m, \u001b[38;5;34m16\u001b[0m, \u001b[38;5;34m256\u001b[0m)    │       \u001b[38;5;34m295,168\u001b[0m │\n",
       "├─────────────────────────────────┼────────────────────────┼───────────────┤\n",
       "│ batch_normalization_3           │ (\u001b[38;5;45mNone\u001b[0m, \u001b[38;5;34m16\u001b[0m, \u001b[38;5;34m16\u001b[0m, \u001b[38;5;34m256\u001b[0m)    │         \u001b[38;5;34m1,024\u001b[0m │\n",
       "│ (\u001b[38;5;33mBatchNormalization\u001b[0m)            │                        │               │\n",
       "├─────────────────────────────────┼────────────────────────┼───────────────┤\n",
       "│ max_pooling2d_5 (\u001b[38;5;33mMaxPooling2D\u001b[0m)  │ (\u001b[38;5;45mNone\u001b[0m, \u001b[38;5;34m8\u001b[0m, \u001b[38;5;34m8\u001b[0m, \u001b[38;5;34m256\u001b[0m)      │             \u001b[38;5;34m0\u001b[0m │\n",
       "├─────────────────────────────────┼────────────────────────┼───────────────┤\n",
       "│ flatten_2 (\u001b[38;5;33mFlatten\u001b[0m)             │ (\u001b[38;5;45mNone\u001b[0m, \u001b[38;5;34m16384\u001b[0m)          │             \u001b[38;5;34m0\u001b[0m │\n",
       "├─────────────────────────────────┼────────────────────────┼───────────────┤\n",
       "│ dense_4 (\u001b[38;5;33mDense\u001b[0m)                 │ (\u001b[38;5;45mNone\u001b[0m, \u001b[38;5;34m512\u001b[0m)            │     \u001b[38;5;34m8,389,120\u001b[0m │\n",
       "├─────────────────────────────────┼────────────────────────┼───────────────┤\n",
       "│ dropout (\u001b[38;5;33mDropout\u001b[0m)               │ (\u001b[38;5;45mNone\u001b[0m, \u001b[38;5;34m512\u001b[0m)            │             \u001b[38;5;34m0\u001b[0m │\n",
       "├─────────────────────────────────┼────────────────────────┼───────────────┤\n",
       "│ dense_5 (\u001b[38;5;33mDense\u001b[0m)                 │ (\u001b[38;5;45mNone\u001b[0m, \u001b[38;5;34m256\u001b[0m)            │       \u001b[38;5;34m131,328\u001b[0m │\n",
       "├─────────────────────────────────┼────────────────────────┼───────────────┤\n",
       "│ dropout_1 (\u001b[38;5;33mDropout\u001b[0m)             │ (\u001b[38;5;45mNone\u001b[0m, \u001b[38;5;34m256\u001b[0m)            │             \u001b[38;5;34m0\u001b[0m │\n",
       "├─────────────────────────────────┼────────────────────────┼───────────────┤\n",
       "│ dense_6 (\u001b[38;5;33mDense\u001b[0m)                 │ (\u001b[38;5;45mNone\u001b[0m, \u001b[38;5;34m10\u001b[0m)             │         \u001b[38;5;34m2,570\u001b[0m │\n",
       "└─────────────────────────────────┴────────────────────────┴───────────────┘\n"
      ]
     },
     "metadata": {},
     "output_type": "display_data"
    },
    {
     "data": {
      "text/html": [
       "<pre style=\"white-space:pre;overflow-x:auto;line-height:normal;font-family:Menlo,'DejaVu Sans Mono',consolas,'Courier New',monospace\"><span style=\"font-weight: bold\"> Total params: </span><span style=\"color: #00af00; text-decoration-color: #00af00\">8,913,354</span> (34.00 MB)\n",
       "</pre>\n"
      ],
      "text/plain": [
       "\u001b[1m Total params: \u001b[0m\u001b[38;5;34m8,913,354\u001b[0m (34.00 MB)\n"
      ]
     },
     "metadata": {},
     "output_type": "display_data"
    },
    {
     "data": {
      "text/html": [
       "<pre style=\"white-space:pre;overflow-x:auto;line-height:normal;font-family:Menlo,'DejaVu Sans Mono',consolas,'Courier New',monospace\"><span style=\"font-weight: bold\"> Trainable params: </span><span style=\"color: #00af00; text-decoration-color: #00af00\">8,912,394</span> (34.00 MB)\n",
       "</pre>\n"
      ],
      "text/plain": [
       "\u001b[1m Trainable params: \u001b[0m\u001b[38;5;34m8,912,394\u001b[0m (34.00 MB)\n"
      ]
     },
     "metadata": {},
     "output_type": "display_data"
    },
    {
     "data": {
      "text/html": [
       "<pre style=\"white-space:pre;overflow-x:auto;line-height:normal;font-family:Menlo,'DejaVu Sans Mono',consolas,'Courier New',monospace\"><span style=\"font-weight: bold\"> Non-trainable params: </span><span style=\"color: #00af00; text-decoration-color: #00af00\">960</span> (3.75 KB)\n",
       "</pre>\n"
      ],
      "text/plain": [
       "\u001b[1m Non-trainable params: \u001b[0m\u001b[38;5;34m960\u001b[0m (3.75 KB)\n"
      ]
     },
     "metadata": {},
     "output_type": "display_data"
    }
   ],
   "source": [
    "model = Sequential([\n",
    "    Input(shape=(128, 128, 3)),\n",
    "    \n",
    "    # 1. Konvolüsyonel Katman\n",
    "    Conv2D(32, (3, 3), activation='relu', padding='same'),\n",
    "    BatchNormalization(),\n",
    "    MaxPooling2D(pool_size=(2, 2)),\n",
    "    \n",
    "    # 2. Konvolüsyonel Katman\n",
    "    Conv2D(64, (3, 3), activation='relu', padding='same'),\n",
    "    BatchNormalization(),\n",
    "    MaxPooling2D(pool_size=(2, 2)),\n",
    "    \n",
    "    # 3. Konvolüsyonel Katman\n",
    "    Conv2D(128, (3, 3), activation='relu', padding='same'),\n",
    "    BatchNormalization(),\n",
    "    MaxPooling2D(pool_size=(2, 2)),\n",
    "    \n",
    "    # 4. Konvolüsyonel Katman\n",
    "    Conv2D(256, (3, 3), activation='relu', padding='same'),\n",
    "    BatchNormalization(),\n",
    "    MaxPooling2D(pool_size=(2, 2)),\n",
    "    \n",
    "    Flatten(),\n",
    "    \n",
    "    # Dense Katman 1\n",
    "    Dense(512, activation='relu'),\n",
    "    Dropout(0.5),  # Dropout ekleniyor\n",
    "    \n",
    "    # Dense Katman 2\n",
    "    Dense(256, activation='relu'),\n",
    "    Dropout(0.5),  # Dropout ekleniyor\n",
    "    \n",
    "    # Çıktı Katmanı\n",
    "    Dense(10, activation='softmax')\n",
    "])\n",
    "\n",
    "optimizer = Adam(learning_rate=0.0001)\n",
    "model.compile(optimizer=optimizer, loss='sparse_categorical_crossentropy', metrics=['accuracy'])\n",
    "\n",
    "model.summary()\n"
   ]
  },
  {
   "cell_type": "markdown",
   "id": "70294eec-42fc-4833-ba1d-263da2ac333f",
   "metadata": {},
   "source": [
    "## **6. Modelin Eğitilmesi**\n",
    "\n",
    "Model, eğitim verileri ile eğitilir."
   ]
  },
  {
   "cell_type": "code",
   "execution_count": 42,
   "id": "e0940399-7306-4508-b572-17eb04fee843",
   "metadata": {},
   "outputs": [
    {
     "name": "stdout",
     "output_type": "stream",
     "text": [
      "Epoch 1/50\n",
      "\u001b[1m143/143\u001b[0m \u001b[32m━━━━━━━━━━━━━━━━━━━━\u001b[0m\u001b[37m\u001b[0m \u001b[1m97s\u001b[0m 630ms/step - accuracy: 0.1102 - loss: 4.0817 - val_accuracy: 0.0913 - val_loss: 2.3144\n",
      "Epoch 2/50\n",
      "\u001b[1m143/143\u001b[0m \u001b[32m━━━━━━━━━━━━━━━━━━━━\u001b[0m\u001b[37m\u001b[0m \u001b[1m87s\u001b[0m 606ms/step - accuracy: 0.1147 - loss: 3.6378 - val_accuracy: 0.1036 - val_loss: 2.4050\n",
      "Epoch 3/50\n",
      "\u001b[1m143/143\u001b[0m \u001b[32m━━━━━━━━━━━━━━━━━━━━\u001b[0m\u001b[37m\u001b[0m \u001b[1m82s\u001b[0m 572ms/step - accuracy: 0.1059 - loss: 3.3960 - val_accuracy: 0.0985 - val_loss: 2.4128\n",
      "Epoch 4/50\n",
      "\u001b[1m143/143\u001b[0m \u001b[32m━━━━━━━━━━━━━━━━━━━━\u001b[0m\u001b[37m\u001b[0m \u001b[1m79s\u001b[0m 552ms/step - accuracy: 0.1095 - loss: 2.8187 - val_accuracy: 0.1267 - val_loss: 2.6986\n",
      "Epoch 5/50\n",
      "\u001b[1m143/143\u001b[0m \u001b[32m━━━━━━━━━━━━━━━━━━━━\u001b[0m\u001b[37m\u001b[0m \u001b[1m74s\u001b[0m 517ms/step - accuracy: 0.0967 - loss: 2.3976 - val_accuracy: 0.1333 - val_loss: 3.3108\n",
      "Epoch 6/50\n",
      "\u001b[1m143/143\u001b[0m \u001b[32m━━━━━━━━━━━━━━━━━━━━\u001b[0m\u001b[37m\u001b[0m \u001b[1m74s\u001b[0m 516ms/step - accuracy: 0.0944 - loss: 2.3438 - val_accuracy: 0.1185 - val_loss: 3.2005\n",
      "Epoch 7/50\n",
      "\u001b[1m143/143\u001b[0m \u001b[32m━━━━━━━━━━━━━━━━━━━━\u001b[0m\u001b[37m\u001b[0m \u001b[1m75s\u001b[0m 523ms/step - accuracy: 0.1104 - loss: 2.3117 - val_accuracy: 0.1138 - val_loss: 2.9437\n",
      "Epoch 8/50\n",
      "\u001b[1m143/143\u001b[0m \u001b[32m━━━━━━━━━━━━━━━━━━━━\u001b[0m\u001b[37m\u001b[0m \u001b[1m76s\u001b[0m 531ms/step - accuracy: 0.1120 - loss: 2.3076 - val_accuracy: 0.1149 - val_loss: 2.8452\n",
      "Epoch 9/50\n",
      "\u001b[1m143/143\u001b[0m \u001b[32m━━━━━━━━━━━━━━━━━━━━\u001b[0m\u001b[37m\u001b[0m \u001b[1m77s\u001b[0m 536ms/step - accuracy: 0.1095 - loss: 2.3050 - val_accuracy: 0.0979 - val_loss: 2.5095\n",
      "Epoch 10/50\n",
      "\u001b[1m143/143\u001b[0m \u001b[32m━━━━━━━━━━━━━━━━━━━━\u001b[0m\u001b[37m\u001b[0m \u001b[1m75s\u001b[0m 526ms/step - accuracy: 0.0937 - loss: 2.3034 - val_accuracy: 0.1231 - val_loss: 2.5254\n",
      "Epoch 11/50\n",
      "\u001b[1m143/143\u001b[0m \u001b[32m━━━━━━━━━━━━━━━━━━━━\u001b[0m\u001b[37m\u001b[0m \u001b[1m75s\u001b[0m 524ms/step - accuracy: 0.0995 - loss: 2.2999 - val_accuracy: 0.1067 - val_loss: 2.5021\n",
      "Epoch 12/50\n",
      "\u001b[1m143/143\u001b[0m \u001b[32m━━━━━━━━━━━━━━━━━━━━\u001b[0m\u001b[37m\u001b[0m \u001b[1m75s\u001b[0m 526ms/step - accuracy: 0.1032 - loss: 2.3018 - val_accuracy: 0.1138 - val_loss: 2.5315\n",
      "Epoch 13/50\n",
      "\u001b[1m143/143\u001b[0m \u001b[32m━━━━━━━━━━━━━━━━━━━━\u001b[0m\u001b[37m\u001b[0m \u001b[1m75s\u001b[0m 522ms/step - accuracy: 0.1058 - loss: 2.2990 - val_accuracy: 0.1267 - val_loss: 2.4773\n",
      "Epoch 14/50\n",
      "\u001b[1m143/143\u001b[0m \u001b[32m━━━━━━━━━━━━━━━━━━━━\u001b[0m\u001b[37m\u001b[0m \u001b[1m81s\u001b[0m 566ms/step - accuracy: 0.1042 - loss: 2.3006 - val_accuracy: 0.1015 - val_loss: 2.6208\n",
      "Epoch 15/50\n",
      "\u001b[1m143/143\u001b[0m \u001b[32m━━━━━━━━━━━━━━━━━━━━\u001b[0m\u001b[37m\u001b[0m \u001b[1m86s\u001b[0m 600ms/step - accuracy: 0.0984 - loss: 2.3067 - val_accuracy: 0.1000 - val_loss: 2.3999\n",
      "Epoch 16/50\n",
      "\u001b[1m143/143\u001b[0m \u001b[32m━━━━━━━━━━━━━━━━━━━━\u001b[0m\u001b[37m\u001b[0m \u001b[1m87s\u001b[0m 608ms/step - accuracy: 0.1089 - loss: 2.2975 - val_accuracy: 0.1026 - val_loss: 2.5699\n",
      "Epoch 17/50\n",
      "\u001b[1m143/143\u001b[0m \u001b[32m━━━━━━━━━━━━━━━━━━━━\u001b[0m\u001b[37m\u001b[0m \u001b[1m93s\u001b[0m 648ms/step - accuracy: 0.1042 - loss: 2.3028 - val_accuracy: 0.1056 - val_loss: 2.4171\n",
      "Epoch 18/50\n",
      "\u001b[1m143/143\u001b[0m \u001b[32m━━━━━━━━━━━━━━━━━━━━\u001b[0m\u001b[37m\u001b[0m \u001b[1m90s\u001b[0m 628ms/step - accuracy: 0.1066 - loss: 2.3027 - val_accuracy: 0.1062 - val_loss: 2.3989\n",
      "Epoch 19/50\n",
      "\u001b[1m143/143\u001b[0m \u001b[32m━━━━━━━━━━━━━━━━━━━━\u001b[0m\u001b[37m\u001b[0m \u001b[1m91s\u001b[0m 634ms/step - accuracy: 0.1191 - loss: 2.3041 - val_accuracy: 0.0974 - val_loss: 2.3498\n",
      "Epoch 20/50\n",
      "\u001b[1m143/143\u001b[0m \u001b[32m━━━━━━━━━━━━━━━━━━━━\u001b[0m\u001b[37m\u001b[0m \u001b[1m94s\u001b[0m 660ms/step - accuracy: 0.1112 - loss: 2.2998 - val_accuracy: 0.0985 - val_loss: 2.3689\n",
      "Epoch 21/50\n",
      "\u001b[1m143/143\u001b[0m \u001b[32m━━━━━━━━━━━━━━━━━━━━\u001b[0m\u001b[37m\u001b[0m \u001b[1m84s\u001b[0m 586ms/step - accuracy: 0.1110 - loss: 2.3030 - val_accuracy: 0.0836 - val_loss: 2.4578\n",
      "Epoch 22/50\n",
      "\u001b[1m143/143\u001b[0m \u001b[32m━━━━━━━━━━━━━━━━━━━━\u001b[0m\u001b[37m\u001b[0m \u001b[1m89s\u001b[0m 619ms/step - accuracy: 0.0925 - loss: 2.3004 - val_accuracy: 0.1026 - val_loss: 2.6253\n",
      "Epoch 23/50\n",
      "\u001b[1m143/143\u001b[0m \u001b[32m━━━━━━━━━━━━━━━━━━━━\u001b[0m\u001b[37m\u001b[0m \u001b[1m84s\u001b[0m 585ms/step - accuracy: 0.1074 - loss: 2.2968 - val_accuracy: 0.1056 - val_loss: 2.7722\n",
      "Epoch 24/50\n",
      "\u001b[1m143/143\u001b[0m \u001b[32m━━━━━━━━━━━━━━━━━━━━\u001b[0m\u001b[37m\u001b[0m \u001b[1m83s\u001b[0m 581ms/step - accuracy: 0.0898 - loss: 2.3016 - val_accuracy: 0.0959 - val_loss: 3.0943\n",
      "Epoch 25/50\n",
      "\u001b[1m143/143\u001b[0m \u001b[32m━━━━━━━━━━━━━━━━━━━━\u001b[0m\u001b[37m\u001b[0m \u001b[1m76s\u001b[0m 533ms/step - accuracy: 0.1002 - loss: 2.3006 - val_accuracy: 0.0969 - val_loss: 2.9004\n",
      "Epoch 26/50\n",
      "\u001b[1m143/143\u001b[0m \u001b[32m━━━━━━━━━━━━━━━━━━━━\u001b[0m\u001b[37m\u001b[0m \u001b[1m76s\u001b[0m 527ms/step - accuracy: 0.1053 - loss: 2.3033 - val_accuracy: 0.1067 - val_loss: 2.5965\n",
      "Epoch 27/50\n",
      "\u001b[1m143/143\u001b[0m \u001b[32m━━━━━━━━━━━━━━━━━━━━\u001b[0m\u001b[37m\u001b[0m \u001b[1m75s\u001b[0m 524ms/step - accuracy: 0.1101 - loss: 2.3060 - val_accuracy: 0.0995 - val_loss: 2.8047\n",
      "Epoch 28/50\n",
      "\u001b[1m143/143\u001b[0m \u001b[32m━━━━━━━━━━━━━━━━━━━━\u001b[0m\u001b[37m\u001b[0m \u001b[1m79s\u001b[0m 550ms/step - accuracy: 0.1097 - loss: 2.3057 - val_accuracy: 0.0969 - val_loss: 2.5859\n",
      "Epoch 29/50\n",
      "\u001b[1m143/143\u001b[0m \u001b[32m━━━━━━━━━━━━━━━━━━━━\u001b[0m\u001b[37m\u001b[0m \u001b[1m85s\u001b[0m 592ms/step - accuracy: 0.0985 - loss: 2.3053 - val_accuracy: 0.1010 - val_loss: 2.5138\n",
      "Epoch 30/50\n",
      "\u001b[1m143/143\u001b[0m \u001b[32m━━━━━━━━━━━━━━━━━━━━\u001b[0m\u001b[37m\u001b[0m \u001b[1m84s\u001b[0m 588ms/step - accuracy: 0.1060 - loss: 2.3028 - val_accuracy: 0.1000 - val_loss: 2.5044\n",
      "Epoch 31/50\n",
      "\u001b[1m143/143\u001b[0m \u001b[32m━━━━━━━━━━━━━━━━━━━━\u001b[0m\u001b[37m\u001b[0m \u001b[1m83s\u001b[0m 578ms/step - accuracy: 0.1015 - loss: 2.3027 - val_accuracy: 0.1067 - val_loss: 2.5546\n",
      "Epoch 32/50\n",
      "\u001b[1m143/143\u001b[0m \u001b[32m━━━━━━━━━━━━━━━━━━━━\u001b[0m\u001b[37m\u001b[0m \u001b[1m82s\u001b[0m 574ms/step - accuracy: 0.1002 - loss: 2.3032 - val_accuracy: 0.1031 - val_loss: 2.3419\n",
      "Epoch 33/50\n",
      "\u001b[1m143/143\u001b[0m \u001b[32m━━━━━━━━━━━━━━━━━━━━\u001b[0m\u001b[37m\u001b[0m \u001b[1m86s\u001b[0m 598ms/step - accuracy: 0.1012 - loss: 2.3009 - val_accuracy: 0.1005 - val_loss: 2.5202\n",
      "Epoch 34/50\n",
      "\u001b[1m143/143\u001b[0m \u001b[32m━━━━━━━━━━━━━━━━━━━━\u001b[0m\u001b[37m\u001b[0m \u001b[1m85s\u001b[0m 593ms/step - accuracy: 0.1030 - loss: 2.3040 - val_accuracy: 0.1426 - val_loss: 2.4355\n",
      "Epoch 35/50\n",
      "\u001b[1m143/143\u001b[0m \u001b[32m━━━━━━━━━━━━━━━━━━━━\u001b[0m\u001b[37m\u001b[0m \u001b[1m75s\u001b[0m 524ms/step - accuracy: 0.1061 - loss: 2.3018 - val_accuracy: 0.1256 - val_loss: 2.3772\n",
      "Epoch 36/50\n",
      "\u001b[1m143/143\u001b[0m \u001b[32m━━━━━━━━━━━━━━━━━━━━\u001b[0m\u001b[37m\u001b[0m \u001b[1m76s\u001b[0m 529ms/step - accuracy: 0.0990 - loss: 2.3032 - val_accuracy: 0.1051 - val_loss: 2.3550\n",
      "Epoch 37/50\n",
      "\u001b[1m143/143\u001b[0m \u001b[32m━━━━━━━━━━━━━━━━━━━━\u001b[0m\u001b[37m\u001b[0m \u001b[1m75s\u001b[0m 523ms/step - accuracy: 0.1120 - loss: 2.3023 - val_accuracy: 0.1364 - val_loss: 2.3154\n",
      "Epoch 38/50\n",
      "\u001b[1m143/143\u001b[0m \u001b[32m━━━━━━━━━━━━━━━━━━━━\u001b[0m\u001b[37m\u001b[0m \u001b[1m77s\u001b[0m 538ms/step - accuracy: 0.1060 - loss: 2.3022 - val_accuracy: 0.1359 - val_loss: 2.3324\n",
      "Epoch 39/50\n",
      "\u001b[1m143/143\u001b[0m \u001b[32m━━━━━━━━━━━━━━━━━━━━\u001b[0m\u001b[37m\u001b[0m \u001b[1m74s\u001b[0m 517ms/step - accuracy: 0.1124 - loss: 2.3011 - val_accuracy: 0.1364 - val_loss: 2.3752\n",
      "Epoch 40/50\n",
      "\u001b[1m143/143\u001b[0m \u001b[32m━━━━━━━━━━━━━━━━━━━━\u001b[0m\u001b[37m\u001b[0m \u001b[1m74s\u001b[0m 518ms/step - accuracy: 0.1082 - loss: 2.3053 - val_accuracy: 0.1103 - val_loss: 3.0694\n",
      "Epoch 41/50\n",
      "\u001b[1m143/143\u001b[0m \u001b[32m━━━━━━━━━━━━━━━━━━━━\u001b[0m\u001b[37m\u001b[0m \u001b[1m75s\u001b[0m 521ms/step - accuracy: 0.1128 - loss: 2.3054 - val_accuracy: 0.1128 - val_loss: 2.4779\n",
      "Epoch 42/50\n",
      "\u001b[1m143/143\u001b[0m \u001b[32m━━━━━━━━━━━━━━━━━━━━\u001b[0m\u001b[37m\u001b[0m \u001b[1m77s\u001b[0m 537ms/step - accuracy: 0.1029 - loss: 2.3045 - val_accuracy: 0.1113 - val_loss: 2.4521\n",
      "Epoch 43/50\n",
      "\u001b[1m143/143\u001b[0m \u001b[32m━━━━━━━━━━━━━━━━━━━━\u001b[0m\u001b[37m\u001b[0m \u001b[1m86s\u001b[0m 602ms/step - accuracy: 0.1090 - loss: 2.3026 - val_accuracy: 0.1067 - val_loss: 2.4045\n",
      "Epoch 44/50\n",
      "\u001b[1m143/143\u001b[0m \u001b[32m━━━━━━━━━━━━━━━━━━━━\u001b[0m\u001b[37m\u001b[0m \u001b[1m90s\u001b[0m 632ms/step - accuracy: 0.1033 - loss: 2.3021 - val_accuracy: 0.1062 - val_loss: 2.4062\n",
      "Epoch 45/50\n",
      "\u001b[1m143/143\u001b[0m \u001b[32m━━━━━━━━━━━━━━━━━━━━\u001b[0m\u001b[37m\u001b[0m \u001b[1m83s\u001b[0m 583ms/step - accuracy: 0.1047 - loss: 2.3027 - val_accuracy: 0.1036 - val_loss: 3.3437\n",
      "Epoch 46/50\n",
      "\u001b[1m143/143\u001b[0m \u001b[32m━━━━━━━━━━━━━━━━━━━━\u001b[0m\u001b[37m\u001b[0m \u001b[1m83s\u001b[0m 580ms/step - accuracy: 0.1074 - loss: 2.3024 - val_accuracy: 0.1077 - val_loss: 3.1013\n",
      "Epoch 47/50\n",
      "\u001b[1m143/143\u001b[0m \u001b[32m━━━━━━━━━━━━━━━━━━━━\u001b[0m\u001b[37m\u001b[0m \u001b[1m83s\u001b[0m 583ms/step - accuracy: 0.1013 - loss: 2.3018 - val_accuracy: 0.1092 - val_loss: 2.4246\n",
      "Epoch 48/50\n",
      "\u001b[1m143/143\u001b[0m \u001b[32m━━━━━━━━━━━━━━━━━━━━\u001b[0m\u001b[37m\u001b[0m \u001b[1m76s\u001b[0m 531ms/step - accuracy: 0.1000 - loss: 2.3028 - val_accuracy: 0.1015 - val_loss: 2.4515\n",
      "Epoch 49/50\n",
      "\u001b[1m143/143\u001b[0m \u001b[32m━━━━━━━━━━━━━━━━━━━━\u001b[0m\u001b[37m\u001b[0m \u001b[1m78s\u001b[0m 547ms/step - accuracy: 0.1011 - loss: 2.3031 - val_accuracy: 0.1128 - val_loss: 2.5665\n",
      "Epoch 50/50\n",
      "\u001b[1m143/143\u001b[0m \u001b[32m━━━━━━━━━━━━━━━━━━━━\u001b[0m\u001b[37m\u001b[0m \u001b[1m77s\u001b[0m 538ms/step - accuracy: 0.1008 - loss: 2.3040 - val_accuracy: 0.0964 - val_loss: 2.3518\n"
     ]
    }
   ],
   "source": [
    "\n",
    "# Model eğitimi\n",
    "history = model.fit(\n",
    "    train_generator,\n",
    "    epochs=50,\n",
    "    validation_data=(X_test / 255.0, y_test)  # Test verisi de normalize edilmiştir\n",
    ")"
   ]
  },
  {
   "cell_type": "markdown",
   "id": "87cf13ea-e20f-4331-83b7-e03b088eef21",
   "metadata": {},
   "source": [
    "## **7. Manipülasyon ve Renk Sabitliği**\n",
    "\n",
    "Manipüle edilmiş test seti ve renk sabitliği uygulanmış test seti ile modelin dayanıklılığı test edilecektir.\n",
    "\n",
    "Manipülasyon işlemi, test setindeki görsellerin parlaklık değerlerini artırarak, modelin farklı ışık koşullarına nasıl tepki verdiğini test eder.\n",
    "\n",
    "Renk sabitliği, farklı renk koşullarına karşı modelin dayanıklılığını test etmek için uygulanır.\n"
   ]
  },
  {
   "cell_type": "code",
   "execution_count": 43,
   "id": "8379f13d-9b9d-4f60-9400-d1229f44d82a",
   "metadata": {},
   "outputs": [],
   "source": [
    "### Manipülasyon İşlemi\n",
    "\n",
    "def get_manipulated_images(images):\n",
    "    manipulated_images = []\n",
    "    for img in images:\n",
    "        manipulated = cv2.convertScaleAbs(img, alpha=1.5, beta=30)  # Parlaklık artırma\n",
    "        manipulated_images.append(manipulated)\n",
    "    return np.array(manipulated_images)\n",
    "\n",
    "manipulated_test_set = get_manipulated_images(X_test)/ 255.0\n",
    "\n",
    "\n",
    "\n",
    "### Renk Sabitliği\n",
    "\n",
    "def apply_gray_world(images):\n",
    "    wb_images = []\n",
    "    for img in images:\n",
    "        img = (img * 255).astype('uint8')  # Veri tipini uint8'e dönüştür\n",
    "        img = cv2.cvtColor(img, cv2.COLOR_BGR2LAB)\n",
    "        avg_a = np.mean(img[:, :, 1])\n",
    "        avg_b = np.mean(img[:, :, 2])\n",
    "        img[:, :, 1] = img[:, :, 1] - ((avg_a - 128) * (img[:, :, 0] / 255.0) * 1.1)\n",
    "        img[:, :, 2] = img[:, :, 2] - ((avg_b - 128) * (img[:, :, 0] / 255.0) * 1.1)\n",
    "        img = cv2.cvtColor(img, cv2.COLOR_LAB2BGR)\n",
    "        wb_images.append(img)\n",
    "    return np.array(wb_images)\n",
    "\n",
    "manipulated_test_set_uint8 = (manipulated_test_set * 255).astype('uint8')\n",
    "\n",
    "wb_test_set = apply_gray_world(manipulated_test_set)/ 255.0\n"
   ]
  },
  {
   "cell_type": "markdown",
   "id": "347bf36e-6f9d-4f53-9f1b-0be2cd2b7359",
   "metadata": {},
   "source": [
    "## **8. Modelin Test Edilmesi ve Sonuçların Karşılaştırılması**\n",
    "\n",
    "Modelin başarıları, normal test seti, manipüle edilmiş test seti ve renk sabitliği uygulanmış test seti ile karşılaştırılır.\n",
    " Bu, modelin dayanıklılığını ölçmek için önemlidir.\n"
   ]
  },
  {
   "cell_type": "code",
   "execution_count": 44,
   "id": "a968b516-3e78-4a49-9092-b5c476d8b349",
   "metadata": {},
   "outputs": [
    {
     "name": "stdout",
     "output_type": "stream",
     "text": [
      "\u001b[1m61/61\u001b[0m \u001b[32m━━━━━━━━━━━━━━━━━━━━\u001b[0m\u001b[37m\u001b[0m \u001b[1m5s\u001b[0m 75ms/step - accuracy: 0.1075 - loss: 359.2046\n",
      "Normal Test Seti Başarısı: 0.11076922714710236\n",
      "\u001b[1m61/61\u001b[0m \u001b[32m━━━━━━━━━━━━━━━━━━━━\u001b[0m\u001b[37m\u001b[0m \u001b[1m5s\u001b[0m 85ms/step - accuracy: 0.1013 - loss: 30.1670\n",
      "Manipüle Edilmiş Test Seti Başarısı: 0.10256410390138626\n",
      "\u001b[1m61/61\u001b[0m \u001b[32m━━━━━━━━━━━━━━━━━━━━\u001b[0m\u001b[37m\u001b[0m \u001b[1m5s\u001b[0m 88ms/step - accuracy: 0.0979 - loss: 33.4476\n",
      "Renk Sabitliği Uygulanmış Test Seti Başarısı: 0.09948717802762985\n"
     ]
    },
    {
     "data": {
      "image/png": "[encoded data removed]",
      "text/plain": [
       "<Figure size 640x480 with 1 Axes>"
      ]
     },
     "metadata": {},
     "output_type": "display_data"
    },
    {
     "data": {
      "image/png": "[encoded data removed]",
      "text/plain": [
       "<Figure size 640x480 with 1 Axes>"
      ]
     },
     "metadata": {},
     "output_type": "display_data"
    }
   ],
   "source": [
    "# Normal Test Seti\n",
    "normal_loss, normal_acc = model.evaluate(X_test, y_test)\n",
    "print(f\"Normal Test Seti Başarısı: {normal_acc}\")\n",
    "\n",
    "# Manipüle Edilmiş Test Seti\n",
    "manipulated_loss, manipulated_acc = model.evaluate(manipulated_test_set, y_test)\n",
    "print(f\"Manipüle Edilmiş Test Seti Başarısı: {manipulated_acc}\")\n",
    "\n",
    "# Renk Sabitliği Uygulanmış Test Seti\n",
    "wb_loss, wb_acc = model.evaluate(wb_test_set, y_test)\n",
    "print(f\"Renk Sabitliği Uygulanmış Test Seti Başarısı: {wb_acc}\")\n",
    "\n",
    "# Sonuçları Karşılaştırma\n",
    "results = [normal_acc, manipulated_acc, wb_acc]\n",
    "labels = ['Normal Test', 'Manipüle', 'Renk Sabitliği']\n",
    "plt.bar(labels, results)\n",
    "plt.title('Test Seti Başarılarının Karşılaştırılması')\n",
    "plt.ylabel('Accuracy')\n",
    "plt.show()\n",
    "\n",
    "\n",
    "# Eğitim ve doğrulama başarılarının görselleştirilmesi\n",
    "plt.plot(history.history['accuracy'], label='Eğitim Başarısı')\n",
    "plt.plot(history.history['val_accuracy'], label='Doğrulama Başarısı')\n",
    "plt.legend()\n",
    "plt.title(\"Eğitim ve Doğrulama Başarısı\")\n",
    "plt.show()\n",
    "\n"
   ]
  },
  {
   "cell_type": "markdown",
   "id": "4a3420c1-58b9-46e5-bc11-e8cf728bb995",
   "metadata": {},
   "source": [
    "# **Sonuçların Analizi:**\n",
    "\n",
    "# Normal Test Seti Başarısı: 0.1108 (yaklaşık %11)\n",
    "Modelin normal test setindeki başarı oranı, başlangıç için önemli bir adım atıldığını gösteriyor. Bu doğruluk oranı, modelin temel özellikleri öğrenmeye başladığını ve daha fazla iyileştirme için bir temel oluşturduğunu gösteriyor. İlk aşamada bu sonuç, modelin daha karmaşık görevleri öğrenmeye açık olduğunu ve verinin iyileştirilmesiyle daha yüksek başarıların elde edilebileceğini işaret ediyor.\n",
    "\n",
    "# Manipüle Edilmiş Test Seti Başarısı: 0.1026 (yaklaşık %10)\n",
    "Manipülasyon uygulandığında doğruluk oranında küçük bir düşüş gözlemlenmiş olsa da, bu durum modelin ışık değişimlerine karşı bazı temel öğrenmeler yapmış olduğunu gösteriyor. Bu tür manipülasyonlar, modelin dayanıklılığını test etmek için çok değerli ve bu erken dönemde bile elde edilen sonuçlar, daha ileri düzeydeki iyileştirmeler için güçlü bir başlangıç oluşturuyor.\n",
    "\n",
    "# Renk Sabitliği Uygulanmış Test Seti Başarısı: 0.0995 (yaklaşık %10)\n",
    "Renk sabitleme uygulandıktan sonra doğruluk oranında bir düşüş olsa da, bu adım modelin daha zorlu koşullara karşı test edilmesi açısından önemliydi. Renk değişimlerine karşı sağlamlık geliştirme süreci, modelin öğrenmeye devam etmesiyle iyileştirilebilecek bir alan. Bu sonuç, modelin dayanıklılığını artırmaya yönelik yapılacak iyileştirmeler için faydalı bir rehber olabilir.\n",
    "\n",
    "# Pozitif Yönler ve İyileştirme Potansiyeli:\n",
    "Model Öğrenme Süreci: Modeliniz şu an erken aşamalarında ve temel öğrenme işlemleri için başarılı adımlar atılmış durumda. İlk elde edilen başarı oranları, modelin gelişmeye açık olduğunu ve daha fazla eğitim ile doğruluğunun arttırılabileceğini gösteriyor.\n",
    "\n",
    "# Manipülasyon ve Dayanıklılık: \n",
    "Işık ve renk manipülasyonları gibi zorlu koşullar altında elde edilen sonuçlar, modelin bu tür değişimlere karşı daha dirençli hale gelmesi için önemli bir fırsat sunuyor. Bu, modelin genelleme yeteneğini artırmaya yönelik iyileştirmelerin yapılabileceği bir alan.\n",
    "\n",
    "# Veri Artırma ve Eğitim Süreci: \n",
    "Şu an kullanılan veri artırma teknikleri temel düzeyde olsa da, bu noktada daha fazla çeşitlilik ve dönüşüm eklemek, modelin doğruluğunu artırmada büyük fayda sağlayabilir. Modelin başarısı, veri çeşitliliği arttıkça paralel olarak yükselebilir.\n",
    "\n"
   ]
  },
  {
   "cell_type": "code",
   "execution_count": null,
   "id": "d937acaf-7cc6-4233-a05e-3441793b56f9",
   "metadata": {},
   "outputs": [],
   "source": []
  }
 ],
 "metadata": {
  "kernelspec": {
   "display_name": "Python 3 (ipykernel)",
   "language": "python",
   "name": "python3"
  },
  "language_info": {
   "codemirror_mode": {
    "name": "ipython",
    "version": 3
   },
   "file_extension": ".py",
   "mimetype": "text/x-python",
   "name": "python",
   "nbconvert_exporter": "python",
   "pygments_lexer": "ipython3",
   "version": "3.12.7"
  }
 },
 "nbformat": 4,
 "nbformat_minor": 5
}
